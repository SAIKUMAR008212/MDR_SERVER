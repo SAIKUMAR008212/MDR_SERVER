{
 "cells": [
  {
   "cell_type": "code",
   "execution_count": 6,
   "metadata": {},
   "outputs": [],
   "source": [
    "from youtubesearchpython import VideosSearch\n",
    "from pprint import pprint\n"
   ]
  },
  {
   "cell_type": "code",
   "execution_count": 7,
   "metadata": {},
   "outputs": [
    {
     "name": "stdout",
     "output_type": "stream",
     "text": [
      "{'result': [{'accessibility': {'duration': '3 minutes, 56 seconds',\n",
      "                               'title': 'Doja Cat - Say So (Official Video) by '\n",
      "                                        'Doja Cat 489,723,284 views 4 years '\n",
      "                                        'ago 3 minutes, 56 seconds'},\n",
      "             'channel': {'id': 'UCzpl23pGTHVYqvKsgY0A-_w',\n",
      "                         'link': 'https://www.youtube.com/channel/UCzpl23pGTHVYqvKsgY0A-_w',\n",
      "                         'name': 'Doja Cat',\n",
      "                         'thumbnails': [{'height': 68,\n",
      "                                         'url': 'https://yt3.ggpht.com/d4y3cijnz-Q50PWhOybCDbAbefba3Tz1iAPx1R3yMyPLVm2qMmhEOYbSKBWWY0jYEw9Pm7JJTO4=s88-c-k-c0x00ffffff-no-rj',\n",
      "                                         'width': 68}]},\n",
      "             'descriptionSnippet': [{'text': 'Director: Hannah Lux Davis '\n",
      "                                             '@hannahluxdavis Executive '\n",
      "                                             'Producer: Brandon Bonfiglio '\n",
      "                                             '@bbonfiglio Commissioner: Sam '\n",
      "                                             'Houston\\xa0...'}],\n",
      "             'duration': '3:56',\n",
      "             'id': 'pok8H_KF1FA',\n",
      "             'link': 'https://www.youtube.com/watch?v=pok8H_KF1FA',\n",
      "             'publishedTime': '4 years ago',\n",
      "             'richThumbnail': {'height': 180,\n",
      "                               'url': 'https://i.ytimg.com/an_webp/pok8H_KF1FA/mqdefault_6s.webp?du=3000&sqp=CPCI768G&rs=AOn4CLBemUTD6XjYdo3_ZxP5RNm3F06oeg',\n",
      "                               'width': 320},\n",
      "             'shelfTitle': None,\n",
      "             'thumbnails': [{'height': 202,\n",
      "                             'url': 'https://i.ytimg.com/vi/pok8H_KF1FA/hq720.jpg?sqp=-oaymwEcCOgCEMoBSFXyq4qpAw4IARUAAIhCGAFwAcABBg==&rs=AOn4CLDJbsrr3iV26fB5YjJ7EQqYC0jP6w',\n",
      "                             'width': 360},\n",
      "                            {'height': 404,\n",
      "                             'url': 'https://i.ytimg.com/vi/pok8H_KF1FA/hq720.jpg?sqp=-oaymwEcCNAFEJQDSFXyq4qpAw4IARUAAIhCGAFwAcABBg==&rs=AOn4CLBR8kji_93QLYZElltvlqvBx92DjA',\n",
      "                             'width': 720}],\n",
      "             'title': 'Doja Cat - Say So (Official Video)',\n",
      "             'type': 'video',\n",
      "             'viewCount': {'short': '489M views',\n",
      "                           'text': '489,723,284 views'}}]}\n"
     ]
    }
   ],
   "source": [
    "response = VideosSearch('Say so', limit=1).result()\n",
    "pprint(response)"
   ]
  },
  {
   "cell_type": "code",
   "execution_count": 8,
   "metadata": {},
   "outputs": [
    {
     "name": "stdout",
     "output_type": "stream",
     "text": [
      "{'channelThumbnail': 'https://yt3.ggpht.com/d4y3cijnz-Q50PWhOybCDbAbefba3Tz1iAPx1R3yMyPLVm2qMmhEOYbSKBWWY0jYEw9Pm7JJTO4=s88-c-k-c0x00ffffff-no-rj',\n",
      " 'duration': '3:56',\n",
      " 'publishedTime': '4 years ago',\n",
      " 'songUrl': 'https://www.youtube.com/watch?v=pok8H_KF1FA',\n",
      " 'thumbnail': 'https://i.ytimg.com/vi/pok8H_KF1FA/hq720.jpg?sqp=-oaymwEcCOgCEMoBSFXyq4qpAw4IARUAAIhCGAFwAcABBg==&rs=AOn4CLDJbsrr3iV26fB5YjJ7EQqYC0jP6w',\n",
      " 'title': 'Doja Cat - Say So (Official Video)',\n",
      " 'viewCount': '489M views'}\n"
     ]
    }
   ],
   "source": [
    "title = response['result'][0]['title']\n",
    "viewCount = response['result'][0]['viewCount']['short']\n",
    "songThumbnailUrl = response['result'][0]['thumbnails'][0]['url']\n",
    "duration = response['result'][0]['duration']\n",
    "publishedTime = response['result'][0]['publishedTime']\n",
    "channelThumbnailUrl = response['result'][0]['channel']['thumbnails'][0]['url']\n",
    "songUrl = response['result'][0]['link']\n",
    "\n",
    "result = {\n",
    "    'title' : title,\n",
    "    'viewCount' : viewCount,\n",
    "    'thumbnail' : songThumbnailUrl,\n",
    "    'duration' : duration,\n",
    "    'publishedTime' : publishedTime,\n",
    "    'channelThumbnail' : channelThumbnailUrl,\n",
    "    'songUrl' : songUrl,\n",
    "}"
   ]
  },
  {
   "cell_type": "code",
   "execution_count": 1,
   "metadata": {},
   "outputs": [
    {
     "name": "stderr",
     "output_type": "stream",
     "text": [
      "/var/folders/f5/vcbdghk13jz69j8ldpl725_r0000gn/T/ipykernel_2100/3256193227.py:2: DeprecationWarning: The '__version__' attribute is deprecated and will be removed in Flask 3.1. Use feature detection or 'importlib.metadata.version(\"flask\")' instead.\n",
      "  flask.__version__\n"
     ]
    },
    {
     "data": {
      "text/plain": [
       "'3.0.0'"
      ]
     },
     "execution_count": 1,
     "metadata": {},
     "output_type": "execute_result"
    }
   ],
   "source": [
    "import flask\n",
    "flask.__version__"
   ]
  },
  {
   "cell_type": "code",
   "execution_count": null,
   "metadata": {},
   "outputs": [],
   "source": []
  }
 ],
 "metadata": {
  "kernelspec": {
   "display_name": "Python 3",
   "language": "python",
   "name": "python3"
  },
  "language_info": {
   "codemirror_mode": {
    "name": "ipython",
    "version": 3
   },
   "file_extension": ".py",
   "mimetype": "text/x-python",
   "name": "python",
   "nbconvert_exporter": "python",
   "pygments_lexer": "ipython3",
   "version": "3.12.0"
  }
 },
 "nbformat": 4,
 "nbformat_minor": 2
}
